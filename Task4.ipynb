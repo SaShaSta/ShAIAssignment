{
  "nbformat": 4,
  "nbformat_minor": 0,
  "metadata": {
    "colab": {
      "provenance": [],
      "authorship_tag": "ABX9TyM/6qwqY3fpBVtSrS3MRM4z",
      "include_colab_link": true
    },
    "kernelspec": {
      "name": "python3",
      "display_name": "Python 3"
    },
    "language_info": {
      "name": "python"
    }
  },
  "cells": [
    {
      "cell_type": "markdown",
      "metadata": {
        "id": "view-in-github",
        "colab_type": "text"
      },
      "source": [
        "<a href=\"https://colab.research.google.com/github/SaShaSta/ShAIAssignment/blob/main/Task4.ipynb\" target=\"_parent\"><img src=\"https://colab.research.google.com/assets/colab-badge.svg\" alt=\"Open In Colab\"/></a>"
      ]
    },
    {
      "cell_type": "markdown",
      "source": [
        "String"
      ],
      "metadata": {
        "id": "aaDA9mkNOT9G"
      }
    },
    {
      "cell_type": "code",
      "source": [
        "def count_vowels(string):\n",
        "    vowels = \"aeiouAEIOU\"\n",
        "    count = 0\n",
        "    for char in string:\n",
        "        if char in vowels:\n",
        "            count += 1\n",
        "    return count\n",
        "\n",
        "print(count_vowels(\"Hello World\"))"
      ],
      "metadata": {
        "colab": {
          "base_uri": "https://localhost:8080/"
        },
        "id": "1gY5JR_pOIVS",
        "outputId": "133c5cf2-c21d-4bd1-f58a-216ee1f584d3"
      },
      "execution_count": null,
      "outputs": [
        {
          "output_type": "stream",
          "name": "stdout",
          "text": [
            "3\n"
          ]
        }
      ]
    },
    {
      "cell_type": "code",
      "source": [
        "def capital (input_string):\n",
        "    result = \"\"  # Initialize the result variable\n",
        "    for i in range(len(input_string)):\n",
        "        if i % 2 == 1:  # Check if the index is odd (second letter)\n",
        "            result += input_string[i].upper()\n",
        "        else:\n",
        "            result += input_string[i]\n",
        "    return result\n",
        "\n",
        "input_string = \"boy eats apple\"\n",
        "output_string = capital (input_string)\n",
        "print(output_string)"
      ],
      "metadata": {
        "colab": {
          "base_uri": "https://localhost:8080/"
        },
        "id": "dfy7rXTuOXiM",
        "outputId": "dfe02516-b05c-4e5e-e5c8-cbaa9cd61298"
      },
      "execution_count": null,
      "outputs": [
        {
          "output_type": "stream",
          "name": "stdout",
          "text": [
            "bOy eAtS ApPlE\n"
          ]
        }
      ]
    },
    {
      "cell_type": "markdown",
      "source": [
        "List"
      ],
      "metadata": {
        "id": "OOxHEWolTk3s"
      }
    },
    {
      "cell_type": "code",
      "source": [
        "def even_numbers(numbers):\n",
        "    even_numbers = []\n",
        "    for num in numbers:\n",
        "        if num % 2 == 0:\n",
        "            even_numbers.append(num)\n",
        "    return even_numbers\n",
        "numbers = [1, 2, 3, 4, 5, 6, 7, 8, 9, 10]\n",
        "print(even_numbers(numbers))\n"
      ],
      "metadata": {
        "colab": {
          "base_uri": "https://localhost:8080/"
        },
        "id": "iY5bwlP1QJPT",
        "outputId": "1a437c03-a967-45c3-a6fa-6d370d1bc57b"
      },
      "execution_count": null,
      "outputs": [
        {
          "output_type": "stream",
          "name": "stdout",
          "text": [
            "[2, 4, 6, 8, 10]\n"
          ]
        }
      ]
    },
    {
      "cell_type": "code",
      "source": [
        "def remove_duplicate(input_list):\n",
        "\n",
        "    return list(set(input_list))\n",
        "\n",
        "input_list = [1, 2, 3, 4, 3, 2, 1]\n",
        "print(\"Input List:\", input_list)\n",
        "print(\"List with Duplicates Removed:\", remove_duplicates(input_list))\n"
      ],
      "metadata": {
        "id": "t_PiT2h_Qg7E",
        "colab": {
          "base_uri": "https://localhost:8080/"
        },
        "outputId": "0e1f62c8-2853-44a4-812f-d3af9a768da5"
      },
      "execution_count": null,
      "outputs": [
        {
          "output_type": "stream",
          "name": "stdout",
          "text": [
            "Input List: [1, 2, 3, 4, 3, 2, 1]\n",
            "List with Duplicates Removed: [1, 2, 3, 4]\n"
          ]
        }
      ]
    },
    {
      "cell_type": "markdown",
      "source": [
        "Set\n",
        "\n",
        "Task: Write a function that takes two sets and returns their intersection as a new set.\n",
        "\n",
        "Task: Write a function that takes two sets and returns their union as a new set.\n"
      ],
      "metadata": {
        "id": "Ny1AI0sTC-5B"
      }
    },
    {
      "cell_type": "code",
      "source": [
        "def intersection(first_set, second_set):\n",
        "    return first_set.intersection(second_set)\n",
        "\n",
        "print(intersection({1, 2, 3}, {2, 3, 4}))\n"
      ],
      "metadata": {
        "colab": {
          "base_uri": "https://localhost:8080/"
        },
        "id": "4avKVf7cDA7Q",
        "outputId": "8fb712e9-3f9b-4671-a41f-aac8dd06e330"
      },
      "execution_count": null,
      "outputs": [
        {
          "output_type": "stream",
          "name": "stdout",
          "text": [
            "{2, 3}\n"
          ]
        }
      ]
    },
    {
      "cell_type": "code",
      "source": [
        "def union(first_set, second_set):\n",
        "    return first_set.union(second_set)\n",
        "\n",
        "print(union({1, 2, 3}, {2, 3, 4}))"
      ],
      "metadata": {
        "colab": {
          "base_uri": "https://localhost:8080/"
        },
        "id": "Fes39WCxIU1w",
        "outputId": "815a2b7d-9acb-4cd5-85c6-c35b45c5dd91"
      },
      "execution_count": null,
      "outputs": [
        {
          "output_type": "stream",
          "name": "stdout",
          "text": [
            "{1, 2, 3, 4}\n"
          ]
        }
      ]
    },
    {
      "cell_type": "markdown",
      "source": [
        "Tuple:\n",
        "\n",
        "(optional)Task: Write a function that takes a list of tuples and sorts them based on the second element of each tuple.\n",
        "\n",
        "Task: Write a function that takes a tuple and returns a reversed version of that tuple."
      ],
      "metadata": {
        "id": "Y3PSFnXdSfu5"
      }
    },
    {
      "cell_type": "code",
      "source": [
        "def lot52 (x):\n",
        "    sorted_list = sorted(x, key=lambda x: x[1])\n",
        "    return sorted_list\n",
        "print(lot52([(1, 2), (3, 4), (5, 6), (7, 8), (9, 10)]))"
      ],
      "metadata": {
        "colab": {
          "base_uri": "https://localhost:8080/"
        },
        "id": "0z3BruqZIooc",
        "outputId": "6cc400b4-1998-4b0d-a259-79c328f5cf82"
      },
      "execution_count": null,
      "outputs": [
        {
          "output_type": "stream",
          "name": "stdout",
          "text": [
            "[(1, 2), (3, 4), (5, 6), (7, 8), (9, 10)]\n"
          ]
        }
      ]
    },
    {
      "cell_type": "code",
      "source": [
        "def revtup(y):\n",
        "    rev_ver = tuple(y[::-1])\n",
        "    return rev_ver\n",
        "\n",
        "\n",
        "print(revtup(('a', 's', 'b')))"
      ],
      "metadata": {
        "colab": {
          "base_uri": "https://localhost:8080/"
        },
        "id": "rbcne5_CPqab",
        "outputId": "fe750762-2077-49cd-aa6d-55a59faa2071"
      },
      "execution_count": null,
      "outputs": [
        {
          "output_type": "stream",
          "name": "stdout",
          "text": [
            "('b', 's', 'a')\n"
          ]
        }
      ]
    },
    {
      "cell_type": "markdown",
      "source": [
        "Dictionary:\n",
        "\n",
        "Task: Write a function that takes a dictionary and returns the keys and values as separate lists.\n",
        "\n",
        "Task: Write a function that takes a dictionary and a key, and if the key exists in the dictionary, return its value. If the key does not exist, return a 'Not Found'."
      ],
      "metadata": {
        "id": "jrl7wku4ShPr"
      }
    },
    {
      "cell_type": "code",
      "source": [
        "def dickeva (dictionary):\n",
        "    keys = list(dictionary.keys())\n",
        "    values = list(dictionary.values())\n",
        "    return keys, values\n",
        "print(dickeva (({'a': 91, 'b': 26, 'c': 67})))"
      ],
      "metadata": {
        "colab": {
          "base_uri": "https://localhost:8080/"
        },
        "id": "-YywW0cqSk6G",
        "outputId": "28b4c3bc-690c-4eec-dea8-06fad684300a"
      },
      "execution_count": null,
      "outputs": [
        {
          "output_type": "stream",
          "name": "stdout",
          "text": [
            "(['a', 'b', 'c'], [91, 26, 67])\n"
          ]
        }
      ]
    },
    {
      "cell_type": "code",
      "source": [
        "def dickey(dictionary, key):\n",
        "    if key in dictionary:\n",
        "        return dictionary[key]\n",
        "    else:\n",
        "        return \"Not Found\"\n",
        "\n",
        "input_dict = {'a': 1, 'b': 2, 'c': 3}\n",
        "key = 'b'\n",
        "print(dickey(input_dict, key))"
      ],
      "metadata": {
        "colab": {
          "base_uri": "https://localhost:8080/"
        },
        "id": "17zB7SE7TJEQ",
        "outputId": "7b6d9607-d1d1-43d9-febb-1fa77b4c03d7"
      },
      "execution_count": null,
      "outputs": [
        {
          "output_type": "stream",
          "name": "stdout",
          "text": [
            "2\n"
          ]
        }
      ]
    }
  ]
}